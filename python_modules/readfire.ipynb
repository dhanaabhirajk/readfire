{
  "nbformat": 4,
  "nbformat_minor": 0,
  "metadata": {
    "colab": {
      "name": "readfire.ipynb",
      "provenance": [],
      "collapsed_sections": [],
      "authorship_tag": "ABX9TyOn9QVG5ZI6BE1AHOnBps63",
      "include_colab_link": true
    },
    "kernelspec": {
      "name": "python3",
      "display_name": "Python 3"
    },
    "language_info": {
      "name": "python"
    }
  },
  "cells": [
    {
      "cell_type": "markdown",
      "metadata": {
        "id": "view-in-github",
        "colab_type": "text"
      },
      "source": [
        "<a href=\"https://colab.research.google.com/github/dhanaabhirajk/readfire/blob/master/readfire.ipynb\" target=\"_parent\"><img src=\"https://colab.research.google.com/assets/colab-badge.svg\" alt=\"Open In Colab\"/></a>"
      ]
    },
    {
      "cell_type": "code",
      "execution_count": null,
      "metadata": {
        "id": "VFZNBkEOqyRF"
      },
      "outputs": [],
      "source": [
        "#pip install firebase-admin"
      ]
    },
    {
      "cell_type": "code",
      "source": [
        "import firebase_admin\n",
        "from firebase_admin import credentials,firestore\n",
        "\n",
        "#connecting to db\n",
        "cred = credentials.Certificate(\"./ServiceAccountKey.json\")\n",
        "default_app = firebase_admin.initialize_app(cred)\n",
        "db = firestore.client()"
      ],
      "metadata": {
        "id": "X1SPMZp6tncj"
      },
      "execution_count": null,
      "outputs": []
    },
    {
      "cell_type": "code",
      "source": [
        "import nltk\n",
        "#used to remove stop words\n",
        "nltk.download('stopwords')\n",
        "#used in word tokenize\n",
        "nltk.download('punkt')\n",
        "\n",
        "from nltk.corpus import stopwords\n",
        "stop_words = set(stopwords.words('english'))\n",
        "\n",
        "from nltk.tokenize import word_tokenize"
      ],
      "metadata": {
        "id": "TFLv_4Yz6qcp",
        "outputId": "73f22d07-63a4-499d-8a65-aa18c23b8941",
        "colab": {
          "base_uri": "https://localhost:8080/"
        }
      },
      "execution_count": null,
      "outputs": [
        {
          "output_type": "stream",
          "name": "stdout",
          "text": [
            "[nltk_data] Downloading package stopwords to /root/nltk_data...\n",
            "[nltk_data]   Unzipping corpora/stopwords.zip.\n",
            "[nltk_data] Downloading package punkt to /root/nltk_data...\n",
            "[nltk_data]   Unzipping tokenizers/punkt.zip.\n"
          ]
        }
      ]
    },
    {
      "cell_type": "markdown",
      "source": [
        "##Prepocessing"
      ],
      "metadata": {
        "id": "YVapMKtNKoPE"
      }
    },
    {
      "cell_type": "code",
      "source": [
        "import unicodedata #to convert the sentence to unicode\n",
        "import re #used to remove punctuations\n",
        "\n",
        "\n",
        "#Converting unicode to ascii \n",
        "def unicode_to_ascii(s):\n",
        "    return ''.join(c for c in unicodedata.normalize('NFD', s) if unicodedata.category(c) != 'Mn')\n",
        "    \n",
        "def preprocess(w):\n",
        "  #lowercase all the text\n",
        "  w = unicode_to_ascii(w.lower().strip())\n",
        "\n",
        "  #Remove puntuations\n",
        "  w = re.sub(r\"([?.!,¿])\", r\" \", w)\n",
        "  w = re.sub(r'[\" \"]+', \" \", w)\n",
        "  w = re.sub(r\"[^a-zA-Z?.!,¿]+\", \" \", w)\n",
        "\n",
        "  #tokenizes into words\n",
        "  word_tokens = word_tokenize(w)\n",
        "  \n",
        "  #remove stopwords\n",
        "  new_sent = [w for w in word_tokens if w not in stop_words]\n",
        "  \n",
        "  #join the words\n",
        "  new_sent = ' '.join(str(elem) for elem in new_sent)\n",
        "  \n",
        "  return new_sent"
      ],
      "metadata": {
        "id": "jUr8pT3stxiz"
      },
      "execution_count": null,
      "outputs": []
    },
    {
      "cell_type": "code",
      "source": [
        "import pandas as pd"
      ],
      "metadata": {
        "id": "whwrERYZv_d6"
      },
      "execution_count": null,
      "outputs": []
    },
    {
      "cell_type": "code",
      "source": [
        "# function to return the dataframe with the preprocessed articles\n",
        "def get_articles():\n",
        "  articles = pd.DataFrame()\n",
        "  for doc in docs:\n",
        "    new_dic = doc.to_dict()\n",
        "    articles = articles.append({\"id\":doc.id,\"content\":preprocess(new_dic[\"content\"]),\"similar_id\":list(),\"similar_per\":list()},ignore_index=True)\n",
        "  return articles"
      ],
      "metadata": {
        "id": "rpN3yEoaudBz"
      },
      "execution_count": null,
      "outputs": []
    },
    {
      "cell_type": "code",
      "source": [
        "#getting the docs from the database\n",
        "docs = db.collection(u'articles').stream()\n",
        "\n",
        "#get the preprocessed articles\n",
        "articles = get_articles()"
      ],
      "metadata": {
        "id": "dE8Y0iRquu1j"
      },
      "execution_count": null,
      "outputs": []
    },
    {
      "cell_type": "code",
      "source": [
        "articles.head()"
      ],
      "metadata": {
        "id": "o1VKwZEgwAJg",
        "outputId": "783b169f-c851-44a3-a315-e85fb68cdf7e",
        "colab": {
          "base_uri": "https://localhost:8080/",
          "height": 206
        }
      },
      "execution_count": null,
      "outputs": [
        {
          "output_type": "execute_result",
          "data": {
            "text/plain": [
              "                     id                                            content  \\\n",
              "0  G2q76a8fpjzXg3PAaGLi  biogas mixture gases primarily consisting meth...   \n",
              "1  L1oTvamoCndM7wLYvQ4S  natural language processing nlp refers branch ...   \n",
              "2  MAVau2RZpWtDwC9YkpoH  web development work involved developing websi...   \n",
              "3  Y4RYcntx6PUpP9uMAoBZ  process scheduling activity process manager ha...   \n",
              "4  aT99AvBvVW43U1bEXn9p  hybrid electric vehicles powered internal comb...   \n",
              "\n",
              "  similar_id similar_per  \n",
              "0         []          []  \n",
              "1         []          []  \n",
              "2         []          []  \n",
              "3         []          []  \n",
              "4         []          []  "
            ],
            "text/html": [
              "\n",
              "  <div id=\"df-dd9cef0f-42d6-43e9-95ad-5b95dbdeaadb\">\n",
              "    <div class=\"colab-df-container\">\n",
              "      <div>\n",
              "<style scoped>\n",
              "    .dataframe tbody tr th:only-of-type {\n",
              "        vertical-align: middle;\n",
              "    }\n",
              "\n",
              "    .dataframe tbody tr th {\n",
              "        vertical-align: top;\n",
              "    }\n",
              "\n",
              "    .dataframe thead th {\n",
              "        text-align: right;\n",
              "    }\n",
              "</style>\n",
              "<table border=\"1\" class=\"dataframe\">\n",
              "  <thead>\n",
              "    <tr style=\"text-align: right;\">\n",
              "      <th></th>\n",
              "      <th>id</th>\n",
              "      <th>content</th>\n",
              "      <th>similar_id</th>\n",
              "      <th>similar_per</th>\n",
              "    </tr>\n",
              "  </thead>\n",
              "  <tbody>\n",
              "    <tr>\n",
              "      <th>0</th>\n",
              "      <td>G2q76a8fpjzXg3PAaGLi</td>\n",
              "      <td>biogas mixture gases primarily consisting meth...</td>\n",
              "      <td>[]</td>\n",
              "      <td>[]</td>\n",
              "    </tr>\n",
              "    <tr>\n",
              "      <th>1</th>\n",
              "      <td>L1oTvamoCndM7wLYvQ4S</td>\n",
              "      <td>natural language processing nlp refers branch ...</td>\n",
              "      <td>[]</td>\n",
              "      <td>[]</td>\n",
              "    </tr>\n",
              "    <tr>\n",
              "      <th>2</th>\n",
              "      <td>MAVau2RZpWtDwC9YkpoH</td>\n",
              "      <td>web development work involved developing websi...</td>\n",
              "      <td>[]</td>\n",
              "      <td>[]</td>\n",
              "    </tr>\n",
              "    <tr>\n",
              "      <th>3</th>\n",
              "      <td>Y4RYcntx6PUpP9uMAoBZ</td>\n",
              "      <td>process scheduling activity process manager ha...</td>\n",
              "      <td>[]</td>\n",
              "      <td>[]</td>\n",
              "    </tr>\n",
              "    <tr>\n",
              "      <th>4</th>\n",
              "      <td>aT99AvBvVW43U1bEXn9p</td>\n",
              "      <td>hybrid electric vehicles powered internal comb...</td>\n",
              "      <td>[]</td>\n",
              "      <td>[]</td>\n",
              "    </tr>\n",
              "  </tbody>\n",
              "</table>\n",
              "</div>\n",
              "      <button class=\"colab-df-convert\" onclick=\"convertToInteractive('df-dd9cef0f-42d6-43e9-95ad-5b95dbdeaadb')\"\n",
              "              title=\"Convert this dataframe to an interactive table.\"\n",
              "              style=\"display:none;\">\n",
              "        \n",
              "  <svg xmlns=\"http://www.w3.org/2000/svg\" height=\"24px\"viewBox=\"0 0 24 24\"\n",
              "       width=\"24px\">\n",
              "    <path d=\"M0 0h24v24H0V0z\" fill=\"none\"/>\n",
              "    <path d=\"M18.56 5.44l.94 2.06.94-2.06 2.06-.94-2.06-.94-.94-2.06-.94 2.06-2.06.94zm-11 1L8.5 8.5l.94-2.06 2.06-.94-2.06-.94L8.5 2.5l-.94 2.06-2.06.94zm10 10l.94 2.06.94-2.06 2.06-.94-2.06-.94-.94-2.06-.94 2.06-2.06.94z\"/><path d=\"M17.41 7.96l-1.37-1.37c-.4-.4-.92-.59-1.43-.59-.52 0-1.04.2-1.43.59L10.3 9.45l-7.72 7.72c-.78.78-.78 2.05 0 2.83L4 21.41c.39.39.9.59 1.41.59.51 0 1.02-.2 1.41-.59l7.78-7.78 2.81-2.81c.8-.78.8-2.07 0-2.86zM5.41 20L4 18.59l7.72-7.72 1.47 1.35L5.41 20z\"/>\n",
              "  </svg>\n",
              "      </button>\n",
              "      \n",
              "  <style>\n",
              "    .colab-df-container {\n",
              "      display:flex;\n",
              "      flex-wrap:wrap;\n",
              "      gap: 12px;\n",
              "    }\n",
              "\n",
              "    .colab-df-convert {\n",
              "      background-color: #E8F0FE;\n",
              "      border: none;\n",
              "      border-radius: 50%;\n",
              "      cursor: pointer;\n",
              "      display: none;\n",
              "      fill: #1967D2;\n",
              "      height: 32px;\n",
              "      padding: 0 0 0 0;\n",
              "      width: 32px;\n",
              "    }\n",
              "\n",
              "    .colab-df-convert:hover {\n",
              "      background-color: #E2EBFA;\n",
              "      box-shadow: 0px 1px 2px rgba(60, 64, 67, 0.3), 0px 1px 3px 1px rgba(60, 64, 67, 0.15);\n",
              "      fill: #174EA6;\n",
              "    }\n",
              "\n",
              "    [theme=dark] .colab-df-convert {\n",
              "      background-color: #3B4455;\n",
              "      fill: #D2E3FC;\n",
              "    }\n",
              "\n",
              "    [theme=dark] .colab-df-convert:hover {\n",
              "      background-color: #434B5C;\n",
              "      box-shadow: 0px 1px 3px 1px rgba(0, 0, 0, 0.15);\n",
              "      filter: drop-shadow(0px 1px 2px rgba(0, 0, 0, 0.3));\n",
              "      fill: #FFFFFF;\n",
              "    }\n",
              "  </style>\n",
              "\n",
              "      <script>\n",
              "        const buttonEl =\n",
              "          document.querySelector('#df-dd9cef0f-42d6-43e9-95ad-5b95dbdeaadb button.colab-df-convert');\n",
              "        buttonEl.style.display =\n",
              "          google.colab.kernel.accessAllowed ? 'block' : 'none';\n",
              "\n",
              "        async function convertToInteractive(key) {\n",
              "          const element = document.querySelector('#df-dd9cef0f-42d6-43e9-95ad-5b95dbdeaadb');\n",
              "          const dataTable =\n",
              "            await google.colab.kernel.invokeFunction('convertToInteractive',\n",
              "                                                     [key], {});\n",
              "          if (!dataTable) return;\n",
              "\n",
              "          const docLinkHtml = 'Like what you see? Visit the ' +\n",
              "            '<a target=\"_blank\" href=https://colab.research.google.com/notebooks/data_table.ipynb>data table notebook</a>'\n",
              "            + ' to learn more about interactive tables.';\n",
              "          element.innerHTML = '';\n",
              "          dataTable['output_type'] = 'display_data';\n",
              "          await google.colab.output.renderOutput(dataTable, element);\n",
              "          const docLink = document.createElement('div');\n",
              "          docLink.innerHTML = docLinkHtml;\n",
              "          element.appendChild(docLink);\n",
              "        }\n",
              "      </script>\n",
              "    </div>\n",
              "  </div>\n",
              "  "
            ]
          },
          "metadata": {},
          "execution_count": 8
        }
      ]
    },
    {
      "cell_type": "markdown",
      "source": [
        "##Tokenizing and storing the vocubulary"
      ],
      "metadata": {
        "id": "dBsEYyr6LVqT"
      }
    },
    {
      "cell_type": "code",
      "source": [
        "from tensorflow.keras.preprocessing.text import Tokenizer\n",
        "\n",
        "tokenizer = Tokenizer(num_words=10000, oov_token='<UNK>')\n",
        "\n",
        "tokenizer.fit_on_texts(articles[\"content\"])"
      ],
      "metadata": {
        "id": "yBd6PoGhw6bC"
      },
      "execution_count": null,
      "outputs": []
    },
    {
      "cell_type": "code",
      "source": [
        "maxlen = 100\n",
        "\n",
        "from tensorflow.keras.preprocessing.sequence import pad_sequences\n",
        "\n",
        "#A function to return padded article\n",
        "def get_sequences(tokenizer, article):\n",
        "  sequences = tokenizer.texts_to_sequences([article])\n",
        "  padded = pad_sequences(sequences, truncating='post', padding='post', maxlen=maxlen)\n",
        "  return padded"
      ],
      "metadata": {
        "id": "MhjxDMidAS-0"
      },
      "execution_count": null,
      "outputs": []
    },
    {
      "cell_type": "code",
      "source": [
        "articles[\"content\"]"
      ],
      "metadata": {
        "id": "iLV7EB-kIWrb",
        "outputId": "ec9f763f-c2df-4899-f8db-8fb5e35b3c27",
        "colab": {
          "base_uri": "https://localhost:8080/"
        }
      },
      "execution_count": null,
      "outputs": [
        {
          "output_type": "execute_result",
          "data": {
            "text/plain": [
              "0    biogas mixture gases primarily consisting meth...\n",
              "1    natural language processing nlp refers branch ...\n",
              "2    web development work involved developing websi...\n",
              "3    process scheduling activity process manager ha...\n",
              "4    hybrid electric vehicles powered internal comb...\n",
              "5    biogas compressed removal carbon dioxide hydro...\n",
              "6    artificial intelligence simulation human intel...\n",
              "Name: content, dtype: object"
            ]
          },
          "metadata": {},
          "execution_count": 11
        }
      ]
    },
    {
      "cell_type": "code",
      "source": [
        "\n",
        "# import required libraries\n",
        "import numpy as np\n",
        "from numpy.linalg import norm\n",
        "# define two lists or array\n",
        "def get_cosine_similarity(l1,l2):\n",
        " \n",
        "  return round(l1[0].dot(l2[0])/ (np.linalg.norm(l1) * np.linalg.norm(l2)),3)"
      ],
      "metadata": {
        "id": "10XA3PSq_rSW"
      },
      "execution_count": null,
      "outputs": []
    },
    {
      "cell_type": "markdown",
      "source": [
        "##adding the similarity to the dataframe articles"
      ],
      "metadata": {
        "id": "duzCQlVZqHFl"
      }
    },
    {
      "cell_type": "code",
      "source": [
        "length = len(articles)\n",
        "for i in range(length):\n",
        "  for j in range(length):\n",
        "    if(i!=j):\n",
        "      similarity = get_cosine_similarity(get_sequences(tokenizer,articles[\"content\"][i]),get_sequences(tokenizer,articles['content'][j]))\n",
        "      articles.iloc[i][\"similar_per\"].append(similarity)\n",
        "      articles.iloc[i][\"similar_id\"].append(articles.iloc[j][\"id\"])"
      ],
      "metadata": {
        "id": "-vRaS6k6Mqw3"
      },
      "execution_count": null,
      "outputs": []
    },
    {
      "cell_type": "code",
      "source": [
        "articles.head()"
      ],
      "metadata": {
        "id": "vZ-caJKUQHns",
        "outputId": "b7303a86-935c-4c0c-b877-cc95ff702bfe",
        "colab": {
          "base_uri": "https://localhost:8080/",
          "height": 406
        }
      },
      "execution_count": null,
      "outputs": [
        {
          "output_type": "execute_result",
          "data": {
            "text/plain": [
              "                     id                                            content  \\\n",
              "0  G2q76a8fpjzXg3PAaGLi  biogas mixture gases primarily consisting meth...   \n",
              "1  L1oTvamoCndM7wLYvQ4S  natural language processing nlp refers branch ...   \n",
              "2  MAVau2RZpWtDwC9YkpoH  web development work involved developing websi...   \n",
              "3  Y4RYcntx6PUpP9uMAoBZ  process scheduling activity process manager ha...   \n",
              "4  aT99AvBvVW43U1bEXn9p  hybrid electric vehicles powered internal comb...   \n",
              "\n",
              "                                          similar_id  \\\n",
              "0  [L1oTvamoCndM7wLYvQ4S, MAVau2RZpWtDwC9YkpoH, Y...   \n",
              "1  [G2q76a8fpjzXg3PAaGLi, MAVau2RZpWtDwC9YkpoH, Y...   \n",
              "2  [G2q76a8fpjzXg3PAaGLi, L1oTvamoCndM7wLYvQ4S, Y...   \n",
              "3  [G2q76a8fpjzXg3PAaGLi, L1oTvamoCndM7wLYvQ4S, M...   \n",
              "4  [G2q76a8fpjzXg3PAaGLi, L1oTvamoCndM7wLYvQ4S, M...   \n",
              "\n",
              "                                  similar_per  \n",
              "0  [0.333, 0.544, 0.427, 0.519, 0.613, 0.232]  \n",
              "1  [0.333, 0.486, 0.624, 0.425, 0.324, 0.715]  \n",
              "2   [0.544, 0.486, 0.594, 0.646, 0.621, 0.48]  \n",
              "3  [0.427, 0.624, 0.594, 0.411, 0.454, 0.616]  \n",
              "4  [0.519, 0.425, 0.646, 0.411, 0.503, 0.344]  "
            ],
            "text/html": [
              "\n",
              "  <div id=\"df-8d4278b9-fc7a-4e3c-90b5-ee0ff9f0b4e9\">\n",
              "    <div class=\"colab-df-container\">\n",
              "      <div>\n",
              "<style scoped>\n",
              "    .dataframe tbody tr th:only-of-type {\n",
              "        vertical-align: middle;\n",
              "    }\n",
              "\n",
              "    .dataframe tbody tr th {\n",
              "        vertical-align: top;\n",
              "    }\n",
              "\n",
              "    .dataframe thead th {\n",
              "        text-align: right;\n",
              "    }\n",
              "</style>\n",
              "<table border=\"1\" class=\"dataframe\">\n",
              "  <thead>\n",
              "    <tr style=\"text-align: right;\">\n",
              "      <th></th>\n",
              "      <th>id</th>\n",
              "      <th>content</th>\n",
              "      <th>similar_id</th>\n",
              "      <th>similar_per</th>\n",
              "    </tr>\n",
              "  </thead>\n",
              "  <tbody>\n",
              "    <tr>\n",
              "      <th>0</th>\n",
              "      <td>G2q76a8fpjzXg3PAaGLi</td>\n",
              "      <td>biogas mixture gases primarily consisting meth...</td>\n",
              "      <td>[L1oTvamoCndM7wLYvQ4S, MAVau2RZpWtDwC9YkpoH, Y...</td>\n",
              "      <td>[0.333, 0.544, 0.427, 0.519, 0.613, 0.232]</td>\n",
              "    </tr>\n",
              "    <tr>\n",
              "      <th>1</th>\n",
              "      <td>L1oTvamoCndM7wLYvQ4S</td>\n",
              "      <td>natural language processing nlp refers branch ...</td>\n",
              "      <td>[G2q76a8fpjzXg3PAaGLi, MAVau2RZpWtDwC9YkpoH, Y...</td>\n",
              "      <td>[0.333, 0.486, 0.624, 0.425, 0.324, 0.715]</td>\n",
              "    </tr>\n",
              "    <tr>\n",
              "      <th>2</th>\n",
              "      <td>MAVau2RZpWtDwC9YkpoH</td>\n",
              "      <td>web development work involved developing websi...</td>\n",
              "      <td>[G2q76a8fpjzXg3PAaGLi, L1oTvamoCndM7wLYvQ4S, Y...</td>\n",
              "      <td>[0.544, 0.486, 0.594, 0.646, 0.621, 0.48]</td>\n",
              "    </tr>\n",
              "    <tr>\n",
              "      <th>3</th>\n",
              "      <td>Y4RYcntx6PUpP9uMAoBZ</td>\n",
              "      <td>process scheduling activity process manager ha...</td>\n",
              "      <td>[G2q76a8fpjzXg3PAaGLi, L1oTvamoCndM7wLYvQ4S, M...</td>\n",
              "      <td>[0.427, 0.624, 0.594, 0.411, 0.454, 0.616]</td>\n",
              "    </tr>\n",
              "    <tr>\n",
              "      <th>4</th>\n",
              "      <td>aT99AvBvVW43U1bEXn9p</td>\n",
              "      <td>hybrid electric vehicles powered internal comb...</td>\n",
              "      <td>[G2q76a8fpjzXg3PAaGLi, L1oTvamoCndM7wLYvQ4S, M...</td>\n",
              "      <td>[0.519, 0.425, 0.646, 0.411, 0.503, 0.344]</td>\n",
              "    </tr>\n",
              "  </tbody>\n",
              "</table>\n",
              "</div>\n",
              "      <button class=\"colab-df-convert\" onclick=\"convertToInteractive('df-8d4278b9-fc7a-4e3c-90b5-ee0ff9f0b4e9')\"\n",
              "              title=\"Convert this dataframe to an interactive table.\"\n",
              "              style=\"display:none;\">\n",
              "        \n",
              "  <svg xmlns=\"http://www.w3.org/2000/svg\" height=\"24px\"viewBox=\"0 0 24 24\"\n",
              "       width=\"24px\">\n",
              "    <path d=\"M0 0h24v24H0V0z\" fill=\"none\"/>\n",
              "    <path d=\"M18.56 5.44l.94 2.06.94-2.06 2.06-.94-2.06-.94-.94-2.06-.94 2.06-2.06.94zm-11 1L8.5 8.5l.94-2.06 2.06-.94-2.06-.94L8.5 2.5l-.94 2.06-2.06.94zm10 10l.94 2.06.94-2.06 2.06-.94-2.06-.94-.94-2.06-.94 2.06-2.06.94z\"/><path d=\"M17.41 7.96l-1.37-1.37c-.4-.4-.92-.59-1.43-.59-.52 0-1.04.2-1.43.59L10.3 9.45l-7.72 7.72c-.78.78-.78 2.05 0 2.83L4 21.41c.39.39.9.59 1.41.59.51 0 1.02-.2 1.41-.59l7.78-7.78 2.81-2.81c.8-.78.8-2.07 0-2.86zM5.41 20L4 18.59l7.72-7.72 1.47 1.35L5.41 20z\"/>\n",
              "  </svg>\n",
              "      </button>\n",
              "      \n",
              "  <style>\n",
              "    .colab-df-container {\n",
              "      display:flex;\n",
              "      flex-wrap:wrap;\n",
              "      gap: 12px;\n",
              "    }\n",
              "\n",
              "    .colab-df-convert {\n",
              "      background-color: #E8F0FE;\n",
              "      border: none;\n",
              "      border-radius: 50%;\n",
              "      cursor: pointer;\n",
              "      display: none;\n",
              "      fill: #1967D2;\n",
              "      height: 32px;\n",
              "      padding: 0 0 0 0;\n",
              "      width: 32px;\n",
              "    }\n",
              "\n",
              "    .colab-df-convert:hover {\n",
              "      background-color: #E2EBFA;\n",
              "      box-shadow: 0px 1px 2px rgba(60, 64, 67, 0.3), 0px 1px 3px 1px rgba(60, 64, 67, 0.15);\n",
              "      fill: #174EA6;\n",
              "    }\n",
              "\n",
              "    [theme=dark] .colab-df-convert {\n",
              "      background-color: #3B4455;\n",
              "      fill: #D2E3FC;\n",
              "    }\n",
              "\n",
              "    [theme=dark] .colab-df-convert:hover {\n",
              "      background-color: #434B5C;\n",
              "      box-shadow: 0px 1px 3px 1px rgba(0, 0, 0, 0.15);\n",
              "      filter: drop-shadow(0px 1px 2px rgba(0, 0, 0, 0.3));\n",
              "      fill: #FFFFFF;\n",
              "    }\n",
              "  </style>\n",
              "\n",
              "      <script>\n",
              "        const buttonEl =\n",
              "          document.querySelector('#df-8d4278b9-fc7a-4e3c-90b5-ee0ff9f0b4e9 button.colab-df-convert');\n",
              "        buttonEl.style.display =\n",
              "          google.colab.kernel.accessAllowed ? 'block' : 'none';\n",
              "\n",
              "        async function convertToInteractive(key) {\n",
              "          const element = document.querySelector('#df-8d4278b9-fc7a-4e3c-90b5-ee0ff9f0b4e9');\n",
              "          const dataTable =\n",
              "            await google.colab.kernel.invokeFunction('convertToInteractive',\n",
              "                                                     [key], {});\n",
              "          if (!dataTable) return;\n",
              "\n",
              "          const docLinkHtml = 'Like what you see? Visit the ' +\n",
              "            '<a target=\"_blank\" href=https://colab.research.google.com/notebooks/data_table.ipynb>data table notebook</a>'\n",
              "            + ' to learn more about interactive tables.';\n",
              "          element.innerHTML = '';\n",
              "          dataTable['output_type'] = 'display_data';\n",
              "          await google.colab.output.renderOutput(dataTable, element);\n",
              "          const docLink = document.createElement('div');\n",
              "          docLink.innerHTML = docLinkHtml;\n",
              "          element.appendChild(docLink);\n",
              "        }\n",
              "      </script>\n",
              "    </div>\n",
              "  </div>\n",
              "  "
            ]
          },
          "metadata": {},
          "execution_count": 14
        }
      ]
    },
    {
      "cell_type": "markdown",
      "source": [
        "##Updating the top 3 related artocles to the article"
      ],
      "metadata": {
        "id": "wdWv2-3op0sd"
      }
    },
    {
      "cell_type": "code",
      "source": [
        "import heapq\n",
        "\n",
        "for index in range(len(articles)):\n",
        "  related = list()\n",
        "  #largest 3 related articles\n",
        "  larg3 = heapq.nlargest(3, zip( articles['similar_per'][index] , articles['similar_id'][index]))\n",
        "  for i in larg3:\n",
        "    related.append({\"id\":i[1],\"per\":i[0]})\n",
        "  db.collection(u\"articles\").document(articles['id'][index]).update({\"related\":related})"
      ],
      "metadata": {
        "id": "J3OJirKZmGeM"
      },
      "execution_count": null,
      "outputs": []
    }
  ]
}